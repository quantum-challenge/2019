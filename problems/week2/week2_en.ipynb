{
 "cells": [
  {
   "cell_type": "markdown",
   "metadata": {},
   "source": [
    "# Week2: Grover's Algorithm\n",
    "*(This tutorial partially refers to [Grover's algorithm and its Qiskit implementation](https://quantum-computing.ibm.com/support/guides/quantum-algorithms-with-qiskit?page=5cc0d9fd86b50d00642353ca#) under Quantum Algorithms with Qiskit in IBM Q Exprience. The last section \"Qiskit implementation\" was added for this specific challenge.)*"
   ]
  },
  {
   "cell_type": "markdown",
   "metadata": {},
   "source": [
    "**Welcome to week 2 !** <br/><br/>\n",
    "For this week, let us learn about a well-known quantum algorithm called Grover's algorithm. <br/> Also, **there is a learning challenge exercise for you to tackle on your own at the end of this tutorial.** <br/>\n",
    "\n",
    "So let's get started.<br/><br/>\n",
    "You may have heard that one of the advantages a quantum computer has over a classical computer is its superior speed searching databases.<br/>\n",
    "Grover's algorithm demonstrates this capability. This algorithm can speed up an unstructured search problem quadratically, but its uses extend beyond that; it can serve as a general trick or subroutine to obtain quadratic run time improvements for a variety of other algorithms. This is called the amplitude amplification trick.\n",
    "\n",
    "This page will walk you through the description of the search problem, building the oracle - the circuit representation of our search problem, and implementing the complete Grover algorithm in Qiskit."
   ]
  },
  {
   "cell_type": "markdown",
   "metadata": {},
   "source": [
    "# Unstructured search\n",
    "Suppose you are given a large list of N items. Among these items there is one item with a unique property that we wish to locate; we will call this one the winner w. Think of each item in the list as a box of a particular item. Say all items in the list have grey colored items except the winning item w."
   ]
  },
  {
   "cell_type": "markdown",
   "metadata": {},
   "source": [
    "<img src=\"./fig/unstructured_search.png\" width=\"700\">"
   ]
  },
  {
   "cell_type": "markdown",
   "metadata": {},
   "source": [
    "To find the winning item -- the marked item -- using classical computation, one would have to check on average $N/2$ of these boxes, and in the worst case, all $N$ of them. On a quantum computer, however, we can find the marked item in roughly $\\sqrt{N}$ steps with Grover's amplitude amplification trick. A quadratic speedup is indeed a substantial time-saver for finding marked items in long lists. Additionally, the algorithm does not use the list's internal structure, which makes it generic; this is why it immediately provides a quadratic quantum speed-up for many classical problems."
   ]
  },
  {
   "cell_type": "markdown",
   "metadata": {},
   "source": [
    "# Creating an Oracle that marks the winning item\n",
    "How will the list items be provided to the quantum computer? A common way to encode such a list is in terms of a function 𝑓 that returns $f(x)=0$ for all unmarked items $x$, and $f(w)=1$ for the winner. To use a quantum computer for this problem, we must provide the items in superposition to this function, so we encode the function into a unitary matrix called an **oracle**. First we choose a binary encoding of the items $x,w \\in \\{0,1\\}^n$ so that $N=2^n$. This way, we can represent it in terms of qubits on a quantum computer. We then define the oracle matrix $U_w$ to act on any of the simple, standard basis states $|x>$ by $U_w |x> = (-1)^{f(x)}|x>$\n",
    "\n",
    "We see that if $x$ is an unmarked item, the oracle does nothing to the state. However, when we apply the oracle to the basis state $|w>$, it maps $U_w |w> = -|w>$. Geometrically, this unitary matrix corresponds to a reflection about the origin for the marked item in an $N=2^n$-dimensional vector space.\n",
    "\n",
    "<img src=\"./fig/oracle.png\" width=\"700\">"
   ]
  },
  {
   "cell_type": "markdown",
   "metadata": {},
   "source": [
    "# Amplitude amplification\n",
    "So how does the algorithm work? Before looking at the list of items, we have no idea where the marked item is. Therefore, any guess of its location is as good as any other. You may have heard the term superposition This can be expressed in terms of a uniform superposition: <br/>\n",
    "$$|s> = \\frac{1}{\\sqrt N}\\sum_{x=0}^{N-1} |x> $$\n",
    "\n",
    "If at this point we were to measure in the standard basis $|x>$, this superposition would collapse to any one of the basis states with the same probability of $\\frac{1}{N} = \\frac{1}{2^{n}} $. Our chances of guessing the right value $|w>$ is therefore $\\frac{1}{2^{n}}$, as could be expected. Hence, on average we would need to try about $N=2^{n}$ times to guess the correct item."
   ]
  },
  {
   "cell_type": "markdown",
   "metadata": {},
   "source": [
    "Now, let's enter the procedure called amplitude amplification, which is how a quantum computer significantly enhances this probability. This procedure stretches out (amplifies) the amplitude of the marked item, which shrinks the other items' amplitude, so that measuring the final state will return the right item with near-certainty.\n",
    "\n",
    "This algorithm has a nice geometrical interpretation in terms of two reflections, which generate a rotation in a two-dimensional plane. The only two special states we need to consider are the winner $|w>$ and the uniform superposition $|s>$ . These two vectors span a two-dimensional plane in the vector space $\\mathbb C^{N}$ . They are not quite perpendicular because $|w>$ occurs in the superposition with amplitude $N^{-1/2}$ as well.\n",
    "\n",
    "We can, however, introduce an additional state $|s>$ that is in the span of these two vectors, which is perpendicular to $|w>$ and is obtained from $|s'>$ by removing $|w>$ and rescaling.\n"
   ]
  },
  {
   "cell_type": "markdown",
   "metadata": {},
   "source": [
    "**Step 0** :\n",
    "The amplitude amplification procedure starts out in the uniform superposition $|s>$ .  (The uniform superposition is easily constructed from $|s> = H^{\\otimes n}|0>^{n}$ At $t=0$ the initial state is $|\\psi_{0}> = |s>$.\n",
    "\n",
    "<img src=\"./fig/step0.png\" width=\"700\">"
   ]
  },
  {
   "cell_type": "markdown",
   "metadata": {},
   "source": [
    "**Step1** :\n",
    "We apply the oracle reflection $U_{w}$ to the state $U_{w}|\\psi_{t}> = |\\psi_{t'}>$.\n",
    "<img src=\"./fig/step1.png\" width=\"700\">\n",
    "Geometrically, this corresponds to a reflection of the state $|\\psi_{t}>$ about $|s>$ . This transformation means that the amplitude in front of the $|w>$ state becomes negative, which in turn means that the average amplitude has been lowered. (Note how the dotted line in the right graph is tapering).\n",
    "    \n"
   ]
  },
  {
   "cell_type": "markdown",
   "metadata": {},
   "source": [
    "**Step2**:\n",
    "We now apply an additional reflection $U_{s}$ about the state $|s>$: $U_{s} = 2|s> <s| - 1 $ . This transformation maps the state to $U_{s}|\\psi_{t'}>$ and completes the transformation $|\\psi_{t+1}> = U_{s}U_{w}|\\psi_{t}>$ .（Note how the amplitude at $|w>$ is amplified in the right graph).\n",
    "<img src=\"./fig/step2.png\" width=\"700\">"
   ]
  },
  {
   "cell_type": "markdown",
   "metadata": {},
   "source": [
    "Two reflections always correspond to a rotation. The transformation $ U_{s}U_{w}$ rotates the initial state $|s>$ closer towards the winner $|w>$ . (Please pay attention to left graph in Step 2. The action of the reflection $U_{s}$ in the amplitude bar diagram can be understood as a reflection about the average amplitude. Since the average amplitude has been lowered by the first reflection, this transformation boosts the negative amplitude of $|w>$ to roughly three times its original value, while it decreases the other amplitudes. We then go to **Step １** to repeat the application. This procedure will be repeated several times to zero in on the winner. \n",
    "\n",
    "After $t$ steps the state will have transformed to $|\\psi_{t}> = (U_{s}U_{w})^{t}|\\psi_{0}>$."
   ]
  },
  {
   "cell_type": "markdown",
   "metadata": {},
   "source": [
    "How many times do we need to apply the rotation? It turns out that roughly $\\sqrt N$ rotations suffice. This becomes clear when looking at the amplitudes of the state $|\\psi_{t}>$ . We can see that the amplitude of $|w>$ grows linearly with the number of applications（$ \\sim tN^{1/2}$）. However, since we are dealing with amplitudes and not probabilities, the vector space's dimension enters as a square root. Therefore it is the amplitude, and not just the probability, that is being amplified in this procedure.\n",
    "\n",
    "In the case that there are multiple solutions, $M$ it can be shown that roughly $\\sqrt{(N/M)}$ rotations will suffice.\n",
    "<img src=\"./fig/grover_algorithm.png\" width=\"700\">"
   ]
  },
  {
   "cell_type": "markdown",
   "metadata": {},
   "source": [
    "### Qiskit implementation: Grover's algorithm using 2 qubits\n",
    "Now, let's impement Grover's algorithm using Qiskit. In this example, we will use two qubits to find the state |11⟩.\n",
    "\n",
    "First we prepare our environment."
   ]
  },
  {
   "cell_type": "code",
   "execution_count": 7,
   "metadata": {},
   "outputs": [],
   "source": [
    "#initialization\n",
    "import matplotlib.pyplot as plt\n",
    "%matplotlib inline\n",
    "import numpy as np\n",
    "\n",
    "# importing Qiskit\n",
    "from qiskit import IBMQ, BasicAer\n",
    "from qiskit.providers.ibmq import least_busy\n",
    "from qiskit import QuantumCircuit, ClassicalRegister, QuantumRegister, execute\n",
    "\n",
    "# import basic plot tools\n",
    "from qiskit.tools.visualization import plot_histogram"
   ]
  },
  {
   "cell_type": "markdown",
   "metadata": {},
   "source": [
    "As we have seen in Step1, let us create a phase oracle to mark the state |11⟩."
   ]
  },
  {
   "cell_type": "code",
   "execution_count": 8,
   "metadata": {},
   "outputs": [
    {
     "data": {
      "image/png": "[encoded data removed]",
      "text/plain": [
       "<Figure size 227.556x144.48 with 1 Axes>"
      ]
     },
     "execution_count": 8,
     "metadata": {},
     "output_type": "execute_result"
    }
   ],
   "source": [
    "def phase_oracle(circuit, register):\n",
    "    circuit.cz(register[0], register[1])\n",
    "\n",
    "qr = QuantumRegister(2)\n",
    "oracleCircuit = QuantumCircuit(qr)\n",
    "phase_oracle(oracleCircuit, qr)\n",
    "oracleCircuit.draw(output=\"mpl\")"
   ]
  },
  {
   "cell_type": "markdown",
   "metadata": {},
   "source": [
    "Next we set up the circuit for inversion about the average as we saw in step 2. This circuit is sometimes called an amplitude ampification module or a diffusion circuit."
   ]
  },
  {
   "cell_type": "code",
   "execution_count": 9,
   "metadata": {},
   "outputs": [],
   "source": [
    "def inversion_about_average(circuit, register):\n",
    "    \"\"\"Apply inversion about the average step of Grover's algorithm.\"\"\"\n",
    "    circuit.h(register)\n",
    "    circuit.x(register)\n",
    "    circuit.h(register[1])\n",
    "    circuit.cx(register[0], register[1])\n",
    "    circuit.h(register[1])\n",
    "    circuit.x(register)\n",
    "    circuit.h(register)"
   ]
  },
  {
   "cell_type": "code",
   "execution_count": 10,
   "metadata": {},
   "outputs": [
    {
     "data": {
      "image/png": "[encoded data removed]",
      "text/plain": [
       "<Figure size 588.756x144.48 with 1 Axes>"
      ]
     },
     "execution_count": 10,
     "metadata": {},
     "output_type": "execute_result"
    }
   ],
   "source": [
    "qAverage = QuantumCircuit(qr)\n",
    "inversion_about_average(qAverage, qr)\n",
    "qAverage.draw(output='mpl')"
   ]
  },
  {
   "cell_type": "markdown",
   "metadata": {},
   "source": [
    "Now we put the pieces together, with the creation of a uniform superposition at the start of the circuit and a measurement at the end. Note that since there is one solution and four possibilities, we will only need to run one iteration."
   ]
  },
  {
   "cell_type": "code",
   "execution_count": 11,
   "metadata": {},
   "outputs": [
    {
     "data": {
      "image/png": "[encoded data removed]",
      "text/plain": [
       "<Figure size 829.556x204.68 with 1 Axes>"
      ]
     },
     "execution_count": 11,
     "metadata": {},
     "output_type": "execute_result"
    }
   ],
   "source": [
    "qr = QuantumRegister(2)\n",
    "cr = ClassicalRegister(2)\n",
    "\n",
    "groverCircuit = QuantumCircuit(qr,cr)\n",
    "groverCircuit.h(qr)\n",
    "\n",
    "phase_oracle(groverCircuit, qr)\n",
    "inversion_about_average(groverCircuit, qr)\n",
    "\n",
    "groverCircuit.measure(qr,cr)\n",
    "groverCircuit.draw(output=\"mpl\")"
   ]
  },
  {
   "cell_type": "markdown",
   "metadata": {},
   "source": [
    "### Experiment with Simulators\n",
    "We now run the above circuit on the simulator."
   ]
  },
  {
   "cell_type": "code",
   "execution_count": 12,
   "metadata": {},
   "outputs": [
    {
     "data": {
      "image/png": "[encoded data removed]",
      "text/plain": [
       "<Figure size 504x360 with 1 Axes>"
      ]
     },
     "execution_count": 12,
     "metadata": {},
     "output_type": "execute_result"
    }
   ],
   "source": [
    "backend = BasicAer.get_backend('qasm_simulator')\n",
    "shots = 1024\n",
    "results = execute(groverCircuit, backend=backend, shots=shots).result()\n",
    "answer = results.get_counts()\n",
    "plot_histogram(answer)"
   ]
  },
  {
   "cell_type": "markdown",
   "metadata": {},
   "source": [
    "As we can see, the algorithm discovers our marked states."
   ]
  },
  {
   "cell_type": "markdown",
   "metadata": {},
   "source": [
    "### Experiment with Real Devices\n",
    "We can run the circuit on the real device as shown below."
   ]
  },
  {
   "cell_type": "code",
   "execution_count": 13,
   "metadata": {},
   "outputs": [
    {
     "name": "stderr",
     "output_type": "stream",
     "text": [
      "/Applications/anaconda3/lib/python3.7/site-packages/qiskit/providers/ibmq/ibmqfactory.py:181: UserWarning: Credentials are already in use. The existing account in the session will be replaced.\n",
      "  warnings.warn('Credentials are already in use. The existing '\n"
     ]
    },
    {
     "name": "stdout",
     "output_type": "stream",
     "text": [
      "Least busy backend:  ibmq_16_melbourne\n"
     ]
    }
   ],
   "source": [
    "# Load our saved IBMQ accounts and get the least busy backend device\n",
    "\n",
    "# These are compatible with QisKit v0.11.x\n",
    "# IBMQ.load_accounts()\n",
    "# IBMQ.backends()\n",
    "# backend_lb = least_busy(IBMQ.backends(simulator=False))\n",
    "# print(\"Least busy backend: \", backend_lb)\n",
    "\n",
    "# Updated to run on QisKit v0.12.0\n",
    "IBMQ.load_account()\n",
    "provider = IBMQ.get_provider(group='open')\n",
    "backend_lb = least_busy(provider.backends(simulator=False, operational=True))\n",
    "print(\"Least busy backend: \", backend_lb)"
   ]
  },
  {
   "cell_type": "code",
   "execution_count": 14,
   "metadata": {},
   "outputs": [
    {
     "name": "stdout",
     "output_type": "stream",
     "text": [
      "Job Status: job has successfully run\n"
     ]
    }
   ],
   "source": [
    "# Run our circuit on the least busy backend. Monitor the execution of the job in the queue\n",
    "from qiskit.tools.monitor import job_monitor\n",
    "\n",
    "backend = backend_lb\n",
    "shots = 1024\n",
    "job_exp = execute(groverCircuit, backend=backend, shots=shots)\n",
    "\n",
    "job_monitor(job_exp, interval = 2)"
   ]
  },
  {
   "cell_type": "code",
   "execution_count": 15,
   "metadata": {},
   "outputs": [
    {
     "data": {
      "image/png": "[encoded data removed]",
      "text/plain": [
       "<Figure size 504x360 with 1 Axes>"
      ]
     },
     "execution_count": 15,
     "metadata": {},
     "output_type": "execute_result"
    }
   ],
   "source": [
    "# get the results from the computation\n",
    "results = job_exp.result()\n",
    "answer = results.get_counts(groverCircuit)\n",
    "plot_histogram(answer)"
   ]
  },
  {
   "cell_type": "markdown",
   "metadata": {},
   "source": [
    "### Qiskit implementation: 2 qubit Grover's algorithm using ancilla bits\n",
    "We are going to find the state $|11>$ just like in the previous example but this time using an ancilla bit. Ancilla bits bits will allow you to deal with sutations when more qubits are required or implement more complex oracles.\n",
    "\n",
    "Let us prepare the environment first."
   ]
  },
  {
   "cell_type": "code",
   "execution_count": 2,
   "metadata": {},
   "outputs": [],
   "source": [
    "# Initialization\n",
    "import matplotlib.pyplot as plt\n",
    "%matplotlib inline\n",
    "import numpy as np\n",
    "\n",
    "# Importing Qiskit\n",
    "from qiskit import IBMQ, BasicAer\n",
    "from qiskit.providers.ibmq import least_busy\n",
    "from qiskit import QuantumCircuit, ClassicalRegister, QuantumRegister, execute\n",
    "\n",
    "# Import basic plot tools\n",
    "from qiskit.tools.visualization import plot_histogram"
   ]
  },
  {
   "cell_type": "markdown",
   "metadata": {},
   "source": [
    "We will create an oracle that will flip the phase of the answer (in this case $|11>$ ) we are looking for. This time, using the ancilla bit to make the target bit's phase flip when the input state is $|11>$ . Please note that in order to make this phase flip work, you need to prepare the ancilla bit to be $|1>$ by using an x gate."
   ]
  },
  {
   "cell_type": "code",
   "execution_count": 11,
   "metadata": {},
   "outputs": [
    {
     "data": {
      "image/png": "[encoded data removed]",
      "text/plain": [
       "<Figure size 408.156x204.68 with 1 Axes>"
      ]
     },
     "execution_count": 11,
     "metadata": {},
     "output_type": "execute_result"
    }
   ],
   "source": [
    "def phase_oracle(circuit, register,oracle_register):\n",
    "    circuit.h(oracle_register)\n",
    "    circuit.ccx(register[0], register[1],oracle_register)\n",
    "    circuit.h(oracle_register)\n",
    "    \n",
    "qr = QuantumRegister(3)\n",
    "oracleCircuit = QuantumCircuit(qr)\n",
    "oracleCircuit.x(qr[2])\n",
    "phase_oracle(oracleCircuit, qr,qr[2])\n",
    "oracleCircuit.draw(output=\"mpl\")"
   ]
  },
  {
   "cell_type": "markdown",
   "metadata": {},
   "source": [
    "Next we prepare the amplitude amplification module/diffusion circuit. Make sure that the circuit does not act on the ancilla bit."
   ]
  },
  {
   "cell_type": "code",
   "execution_count": 12,
   "metadata": {},
   "outputs": [],
   "source": [
    "def inversion_about_average(circuit, register):\n",
    "    \"\"\"Apply inversion about the average step of Grover's algorithm.\"\"\"\n",
    "    circuit.h(register)\n",
    "    circuit.x(register)\n",
    "    circuit.h(register[1])\n",
    "    circuit.cx(register[0], register[1])\n",
    "    circuit.h(register[1])\n",
    "    circuit.x(register)\n",
    "    circuit.h(register)"
   ]
  },
  {
   "cell_type": "code",
   "execution_count": 13,
   "metadata": {},
   "outputs": [
    {
     "data": {
      "image/png": "[encoded data removed]",
      "text/plain": [
       "<Figure size 588.756x204.68 with 1 Axes>"
      ]
     },
     "execution_count": 13,
     "metadata": {},
     "output_type": "execute_result"
    }
   ],
   "source": [
    "qAverage = QuantumCircuit(qr)\n",
    "inversion_about_average(qAverage, qr[0:2])\n",
    "qAverage.draw(output='mpl')"
   ]
  },
  {
   "cell_type": "markdown",
   "metadata": {},
   "source": [
    "Just like we did in the previous example without using the ancilla bit, here we first create a uniform superposition by using the hadamard (H gate) , incorporate the transformation and then take measurement. Again, please make sure that you do not apply the H gate to your ancilla bit."
   ]
  },
  {
   "cell_type": "code",
   "execution_count": 14,
   "metadata": {},
   "outputs": [
    {
     "data": {
      "image/png": "[encoded data removed]",
      "text/plain": [
       "<Figure size 889.756x264.88 with 1 Axes>"
      ]
     },
     "execution_count": 14,
     "metadata": {},
     "output_type": "execute_result"
    }
   ],
   "source": [
    "qr = QuantumRegister(3)\n",
    "cr = ClassicalRegister(3)\n",
    "\n",
    "groverCircuit = QuantumCircuit(qr,cr)\n",
    "groverCircuit.h(qr[0:2])\n",
    "groverCircuit.x(qr[2])\n",
    "\n",
    "phase_oracle(groverCircuit, qr,qr[2])\n",
    "inversion_about_average(groverCircuit, qr[0:2])\n",
    "\n",
    "groverCircuit.measure(qr,cr)\n",
    "groverCircuit.draw(output=\"mpl\")"
   ]
  },
  {
   "cell_type": "markdown",
   "metadata": {},
   "source": [
    "### Experiment with Simulators\n",
    "We now run this circuit on a simulator. Make sure to specify 'qasm_simulator' as your backend. "
   ]
  },
  {
   "cell_type": "code",
   "execution_count": 15,
   "metadata": {},
   "outputs": [
    {
     "data": {
      "image/png": "[encoded data removed]",
      "text/plain": [
       "<Figure size 504x360 with 1 Axes>"
      ]
     },
     "execution_count": 15,
     "metadata": {},
     "output_type": "execute_result"
    }
   ],
   "source": [
    "backend = BasicAer.get_backend('qasm_simulator')\n",
    "shots = 1024\n",
    "results = execute(groverCircuit, backend=backend, shots=shots).result()\n",
    "answer = results.get_counts()\n",
    "plot_histogram(answer)"
   ]
  },
  {
   "cell_type": "markdown",
   "metadata": {},
   "source": [
    "We can see how the state $|11>$ is being amplified just like we saw previously without using the ancilla bit. You can ignore the 1 in the highest order as that comes from the ancilla bit. "
   ]
  },
  {
   "cell_type": "markdown",
   "metadata": {},
   "source": [
    "# Learning Challenge Exercise II\n",
    "\n",
    "Implement Grover's algorithm with 2 qubits to find the answer $|10>$.\n",
    "In doing so, try two different approaches. One without using the ancilla bit and the other with an ancilla bit. *Please note that the higher order number shown in the states correspond to the higher quantum register index.* \n",
    "\n",
    "Based on the simulator result, please submit the quantum state (bit string) with the highest probability. In addition, use an unroller to breakdown the circuit and send each number of u3 and CX gates and submit those results as well.  <br/>\n",
    "\n",
    "For details on how to use an unroller. Please check out [How to Calculate Quantum Costs](https://github.com/quantum-challenge/2019/blob/master/problems/how_to_calculate_quantum_cost_en.ipynb).\n",
    "\n",
    "Use this [Submission Form](https://angelhack.typeform.com/to/AakobE) to submit your code for learning challenges 1-3."
   ]
  },
  {
   "cell_type": "markdown",
   "metadata": {},
   "source": [
    "# Example Answer\n",
    "## Without an ancilla bit"
   ]
  },
  {
   "cell_type": "code",
   "execution_count": 16,
   "metadata": {},
   "outputs": [],
   "source": [
    "#initialization\n",
    "import matplotlib.pyplot as plt\n",
    "%matplotlib inline\n",
    "import numpy as np\n",
    "\n",
    "# importing Qiskit\n",
    "from qiskit import IBMQ, BasicAer\n",
    "from qiskit.providers.ibmq import least_busy\n",
    "from qiskit import QuantumCircuit, ClassicalRegister, QuantumRegister, execute\n",
    "\n",
    "# import basic plot tools\n",
    "from qiskit.tools.visualization import plot_histogram"
   ]
  },
  {
   "cell_type": "markdown",
   "metadata": {},
   "source": [
    "Create an Oracle to inverse the sign of $|10>$ state. The oracle can be created by combining CZ gates and X gates. Verify that the oracle inverses only the sign of $|10>$ state."
   ]
  },
  {
   "cell_type": "code",
   "execution_count": 17,
   "metadata": {},
   "outputs": [
    {
     "data": {
      "image/png": "[encoded data removed]",
      "text/plain": [
       "<Figure size 347.956x144.48 with 1 Axes>"
      ]
     },
     "execution_count": 17,
     "metadata": {},
     "output_type": "execute_result"
    }
   ],
   "source": [
    "def phase_oracle(circuit, register):\n",
    "    circuit.x(register[0])\n",
    "    circuit.cz(register[0], register[1])\n",
    "    circuit.x(register[0])\n",
    "\n",
    "qr = QuantumRegister(2)\n",
    "oracleCircuit = QuantumCircuit(qr)\n",
    "phase_oracle(oracleCircuit, qr)\n",
    "oracleCircuit.draw(output=\"mpl\")"
   ]
  },
  {
   "cell_type": "code",
   "execution_count": 18,
   "metadata": {},
   "outputs": [],
   "source": [
    "def inversion_about_average(circuit, register):\n",
    "    \"\"\"Apply inversion about the average step of Grover's algorithm.\"\"\"\n",
    "    circuit.h(register)\n",
    "    circuit.x(register)\n",
    "    circuit.h(register[1])\n",
    "    circuit.cx(register[0], register[1])\n",
    "    circuit.h(register[1])\n",
    "    circuit.x(register)\n",
    "    circuit.h(register)"
   ]
  },
  {
   "cell_type": "code",
   "execution_count": 19,
   "metadata": {},
   "outputs": [
    {
     "data": {
      "image/png": "[encoded data removed]",
      "text/plain": [
       "<Figure size 889.756x204.68 with 1 Axes>"
      ]
     },
     "execution_count": 19,
     "metadata": {},
     "output_type": "execute_result"
    }
   ],
   "source": [
    "qr = QuantumRegister(2)\n",
    "cr = ClassicalRegister(2)\n",
    "\n",
    "groverCircuit = QuantumCircuit(qr,cr)\n",
    "groverCircuit.h(qr)\n",
    "\n",
    "phase_oracle(groverCircuit, qr)\n",
    "inversion_about_average(groverCircuit, qr)\n",
    "\n",
    "groverCircuit.measure(qr,cr)\n",
    "groverCircuit.draw(output=\"mpl\")"
   ]
  },
  {
   "cell_type": "code",
   "execution_count": 20,
   "metadata": {},
   "outputs": [
    {
     "data": {
      "image/png": "[encoded data removed]",
      "text/plain": [
       "<Figure size 504x360 with 1 Axes>"
      ]
     },
     "execution_count": 20,
     "metadata": {},
     "output_type": "execute_result"
    }
   ],
   "source": [
    "backend = BasicAer.get_backend('qasm_simulator')\n",
    "shots = 1024\n",
    "results = execute(groverCircuit, backend=backend, shots=shots).result()\n",
    "answer = results.get_counts()\n",
    "plot_histogram(answer)"
   ]
  },
  {
   "cell_type": "markdown",
   "metadata": {},
   "source": [
    "## With an ancilla bit"
   ]
  },
  {
   "cell_type": "code",
   "execution_count": 1,
   "metadata": {},
   "outputs": [],
   "source": [
    "#initialization\n",
    "import matplotlib.pyplot as plt\n",
    "%matplotlib inline\n",
    "import numpy as np\n",
    "\n",
    "# importing Qiskit\n",
    "from qiskit import IBMQ, BasicAer\n",
    "from qiskit.providers.ibmq import least_busy\n",
    "from qiskit import QuantumCircuit, ClassicalRegister, QuantumRegister, execute\n",
    "\n",
    "# import basic plot tools\n",
    "from qiskit.tools.visualization import plot_histogram"
   ]
  },
  {
   "cell_type": "code",
   "execution_count": 22,
   "metadata": {},
   "outputs": [
    {
     "data": {
      "image/png": "[encoded data removed]",
      "text/plain": [
       "<Figure size 408.156x204.68 with 1 Axes>"
      ]
     },
     "execution_count": 22,
     "metadata": {},
     "output_type": "execute_result"
    }
   ],
   "source": [
    "def phase_oracle(circuit, register,oracle_register):\n",
    "    circuit.h(oracle_register)\n",
    "    circuit.x(register[0])\n",
    "    circuit.ccx(register[0], register[1],oracle_register)\n",
    "    circuit.x(register[0])\n",
    "    circuit.h(oracle_register)\n",
    "\n",
    "qr = QuantumRegister(3)\n",
    "oracleCircuit = QuantumCircuit(qr)\n",
    "oracleCircuit.x(qr[2])\n",
    "phase_oracle(oracleCircuit, qr,qr[2])\n",
    "oracleCircuit.draw(output=\"mpl\")"
   ]
  },
  {
   "cell_type": "code",
   "execution_count": 23,
   "metadata": {},
   "outputs": [],
   "source": [
    "def inversion_about_average(circuit, register):\n",
    "    \"\"\"Apply inversion about the average step of Grover's algorithm.\"\"\"\n",
    "    circuit.h(register)\n",
    "    circuit.x(register)\n",
    "    circuit.h(register[1])\n",
    "    circuit.cx(register[0], register[1])\n",
    "    circuit.h(register[1])\n",
    "    circuit.x(register)\n",
    "    circuit.h(register)"
   ]
  },
  {
   "cell_type": "code",
   "execution_count": 24,
   "metadata": {},
   "outputs": [
    {
     "data": {
      "image/png": "[encoded data removed]",
      "text/plain": [
       "<Figure size 889.756x264.88 with 1 Axes>"
      ]
     },
     "execution_count": 24,
     "metadata": {},
     "output_type": "execute_result"
    }
   ],
   "source": [
    "qr = QuantumRegister(3)\n",
    "cr = ClassicalRegister(3)\n",
    "\n",
    "groverCircuit = QuantumCircuit(qr,cr)\n",
    "groverCircuit.h(qr[0:2])\n",
    "groverCircuit.x(qr[2])\n",
    "\n",
    "phase_oracle(groverCircuit, qr,qr[2])\n",
    "inversion_about_average(groverCircuit, qr[0:2])\n",
    "\n",
    "groverCircuit.measure(qr,cr)\n",
    "groverCircuit.draw(output=\"mpl\")"
   ]
  },
  {
   "cell_type": "code",
   "execution_count": 25,
   "metadata": {},
   "outputs": [
    {
     "data": {
      "image/png": "[encoded data removed]",
      "text/plain": [
       "<Figure size 504x360 with 1 Axes>"
      ]
     },
     "execution_count": 25,
     "metadata": {},
     "output_type": "execute_result"
    }
   ],
   "source": [
    "backend = BasicAer.get_backend('qasm_simulator')\n",
    "shots = 1024\n",
    "results = execute(groverCircuit, backend=backend, shots=shots).result()\n",
    "answer = results.get_counts()\n",
    "plot_histogram(answer)"
   ]
  },
  {
   "cell_type": "markdown",
   "metadata": {},
   "source": [
    "|10> is being amplified just like we saw previously without using the ancilla bit. (You can ignore the highest order bit as it is an ancilla bit.)"
   ]
  }
 ],
 "metadata": {
  "kernelspec": {
   "display_name": "Python 3",
   "language": "python",
   "name": "python3"
  },
  "language_info": {
   "codemirror_mode": {
    "name": "ipython",
    "version": 3
   },
   "file_extension": ".py",
   "mimetype": "text/x-python",
   "name": "python",
   "nbconvert_exporter": "python",
   "pygments_lexer": "ipython3",
   "version": "3.7.3"
  }
 },
 "nbformat": 4,
 "nbformat_minor": 2
}
